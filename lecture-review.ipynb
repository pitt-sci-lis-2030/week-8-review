{
 "cells": [
  {
   "cell_type": "markdown",
   "metadata": {},
   "source": [
    "# What have we covered so far?\n",
    "\n",
    "\n",
    "* Week 1 - Introduction to Jupyter\n",
    "    * JupyterHub\n",
    "    * Jupyter Notebooks\n",
    "    * Markdown\n",
    "* Week 2 - Python Programming\n",
    "    * Python Syntax\n",
    "    * Values & Data types\n",
    "    * Statements & Expressions\n",
    "    * Variables\n",
    "    * Operators\n",
    "    * Errors\n",
    "* Week 3 - Control Flow\n",
    "    * Boolean Expressions\n",
    "    * Logical Operators\n",
    "    * Conditional Statements\n",
    "    * Functions\n",
    "    * Modules\n",
    "* Week 4 - Lists & Iteration\n",
    "    * Lists\n",
    "    * List methods\n",
    "    * While Loops\n",
    "    * For loops\n",
    "* Week 5 - Collections\n",
    "    * Strings\n",
    "    * More lists\n",
    "    * Dictionaries\n",
    "    * Indexing into Nested Collections\n",
    "* Week 6 -  Files\n",
    "    * Opening files\n",
    "    * File types (CSV, JSON, MARC)\n",
    "* Week 7 - Debugging\n",
    "    * Debugging\n",
    "    * Exception Handling\n",
    "    \n",
    "![It is a lot to process](https://media.giphy.com/media/dvmhOt9jWPKxwc4mY3/giphy.gif)\n",
    "\n",
    "## The Purpose of this Notebook\n",
    "\n",
    "This notebook is going to provide a (hopefully) helpful summary of all the stuff you have learned in one easy to read place. Use this document as a kind of \"cheat sheet\" (and feel free to modify it) for most of the Python topics we have learned up to this point."
   ]
  },
  {
   "cell_type": "markdown",
   "metadata": {},
   "source": [
    "---"
   ]
  },
  {
   "cell_type": "markdown",
   "metadata": {},
   "source": [
    "## Jupyter Notebooks\n",
    "\n",
    "Notebooks are made of cells:\n",
    "\n",
    "* Markdown Cells - For writing human readable, stylized text\n",
    "* Raw Text Cells - For plain old text\n",
    "* Code Cells - For executable Python code"
   ]
  },
  {
   "cell_type": "markdown",
   "metadata": {},
   "source": [
    "## Markdown\n",
    "\n",
    "Markdown cells are a way to write **formatted** text for *human consumption*\n",
    "\n",
    "See this [Markdown Cheat Sheet](https://www.markdownguide.org/cheat-sheet/) to help you learn the Markdown syntax.\n",
    "\n",
    "\n"
   ]
  },
  {
   "cell_type": "markdown",
   "metadata": {},
   "source": [
    "## Python Programming\n",
    "\n",
    "![Python Expressions](https://images.slideplayer.com/39/10997989/slides/slide_2.jpg)\n",
    "\n",
    "Crudely: An expression evaluates to a value. A statement does something.\n",
    "\n",
    "Expressions are evaluated and replaced by the value they produce. Here is how Python evaluates the statement above.\n"
   ]
  },
  {
   "cell_type": "code",
   "execution_count": null,
   "metadata": {},
   "outputs": [],
   "source": [
    "x = 3.145\n",
    "print(\"The answer is: \" + str(round(x * 5, 1)))"
   ]
  },
  {
   "cell_type": "code",
   "execution_count": null,
   "metadata": {},
   "outputs": [],
   "source": [
    "x = 3.145\n",
    "print(\"The answer is: \" + str(round(3.145 * 5, 1)))"
   ]
  },
  {
   "cell_type": "code",
   "execution_count": null,
   "metadata": {},
   "outputs": [],
   "source": [
    "x = 3\n",
    "print(\"The answer is: \" + str(round(15.725, 1)))"
   ]
  },
  {
   "cell_type": "code",
   "execution_count": null,
   "metadata": {},
   "outputs": [],
   "source": [
    "x = 3\n",
    "print(\"The answer is: \" + str(15.7))"
   ]
  },
  {
   "cell_type": "code",
   "execution_count": null,
   "metadata": {},
   "outputs": [],
   "source": [
    "x = 3\n",
    "print(\"The answer is: \" + \"15.7\")"
   ]
  },
  {
   "cell_type": "code",
   "execution_count": null,
   "metadata": {},
   "outputs": [],
   "source": [
    "x = 3\n",
    "print(\"The answer is: 15.7\")"
   ]
  },
  {
   "cell_type": "markdown",
   "metadata": {},
   "source": [
    "### Data Types \n",
    "\n",
    "Python has 4 base data types\n",
    "* Integer \n",
    "* Float \n",
    "* String\n",
    "* Boolean"
   ]
  },
  {
   "cell_type": "code",
   "execution_count": null,
   "metadata": {},
   "outputs": [],
   "source": [
    "# int is just a number\n",
    "3"
   ]
  },
  {
   "cell_type": "code",
   "execution_count": null,
   "metadata": {},
   "outputs": [],
   "source": [
    "# float has a dot and decimals\n",
    "3.1415926535897931"
   ]
  },
  {
   "cell_type": "code",
   "execution_count": null,
   "metadata": {},
   "outputs": [],
   "source": [
    "# string has quotes around it\n",
    "\"Hello, what a wonderful day!\""
   ]
  },
  {
   "cell_type": "code",
   "execution_count": null,
   "metadata": {},
   "outputs": [],
   "source": [
    "# boolean true is capital T True\n",
    "True"
   ]
  },
  {
   "cell_type": "code",
   "execution_count": null,
   "metadata": {},
   "outputs": [],
   "source": [
    "# boolean false is capital F False\n",
    "False"
   ]
  },
  {
   "cell_type": "markdown",
   "metadata": {},
   "source": [
    "### Variables\n",
    "\n",
    "Use the *assignment operator* (`=`) to assign a *values* into a *variable*"
   ]
  },
  {
   "cell_type": "code",
   "execution_count": null,
   "metadata": {},
   "outputs": [],
   "source": [
    "# assing the integer value 3 to the variable a_var\n",
    "a_var = 3"
   ]
  },
  {
   "cell_type": "code",
   "execution_count": null,
   "metadata": {},
   "outputs": [],
   "source": [
    "# A variable is an expression that evaluates to its value\n",
    "a_var # 3"
   ]
  },
  {
   "cell_type": "markdown",
   "metadata": {},
   "source": [
    "### Variable Names and Python Keywords\n",
    "\n",
    "* There are rules and conventions for naming variables (also called *identifiers*) in Python.\n",
    "* Rules:\n",
    "    * Variable names cannot begin with numbers.\n",
    "    * Variable names cannot contain spaces.\n",
    "    * Variable names are case sensitive.\n",
    "    * Variable names cannot be one of the Python *keywords*\n",
    "\n",
    "```python\n",
    "and       del       from      None      True\n",
    "as        elif      global    nonlocal  try\n",
    "assert    else      if        not       while\n",
    "break     except    import    or        with\n",
    "class     False     in        pass      yield\n",
    "continue  finally   is        raise\n",
    "def       for       lambda    return\n",
    "```\n",
    "\n",
    "* Conventions:\n",
    "    * Don't start variables with capital letters.\n",
    "    * Use underscores instead of spaces.\n",
    "    * Use descriptive variable names.\n",
    "    * Read [PEP 8 -- Style Guide for Python Code](https://www.python.org/dev/peps/pep-0008/)\n",
    "\n"
   ]
  },
  {
   "cell_type": "markdown",
   "metadata": {},
   "source": [
    "### Mathematical Operators\n",
    "* All of the mathematical operators you know and love are available in Python\n",
    "    * Addition: `+`\n",
    "    * Subtraction: `-`\n",
    "    * Multiplication: `*`\n",
    "    * Division: `/`\n",
    "    * Modulus: `%`"
   ]
  },
  {
   "cell_type": "code",
   "execution_count": null,
   "metadata": {},
   "outputs": [],
   "source": [
    "# addition\n",
    "5 + 3"
   ]
  },
  {
   "cell_type": "code",
   "execution_count": null,
   "metadata": {},
   "outputs": [],
   "source": [
    "# subtraction\n",
    "5 - 3"
   ]
  },
  {
   "cell_type": "code",
   "execution_count": null,
   "metadata": {},
   "outputs": [],
   "source": [
    "# modulus - gives you the remainder of 5 divided by 3\n",
    "5 % 3"
   ]
  },
  {
   "cell_type": "code",
   "execution_count": null,
   "metadata": {},
   "outputs": [],
   "source": [
    "10 % 7 # 10 / 7 leaves 3"
   ]
  },
  {
   "cell_type": "markdown",
   "metadata": {},
   "source": [
    "### String Operators\n",
    "\n",
    "* You can use some mathematical operators (+) on string types\n",
    "* This operator allows you to *concatinate* strings together"
   ]
  },
  {
   "cell_type": "code",
   "execution_count": null,
   "metadata": {},
   "outputs": [],
   "source": [
    "# String concat\n",
    "\"John\" + \"Do'h\""
   ]
  },
  {
   "cell_type": "code",
   "execution_count": null,
   "metadata": {},
   "outputs": [],
   "source": [
    "# don't forget the space\n",
    "\"John\" + \" \" + \"Doe\""
   ]
  },
  {
   "cell_type": "code",
   "execution_count": null,
   "metadata": {},
   "outputs": [],
   "source": [
    "# no\n",
    "\"john\" - \"Doe\""
   ]
  },
  {
   "cell_type": "markdown",
   "metadata": {},
   "source": [
    "### Changing Data Types\n",
    "\n",
    "* If you want to do mathematical operations on your data, make sure your data values are the right type\n",
    "* You can't add a string to an integer.\n",
    "* You can't divide a float by a string."
   ]
  },
  {
   "cell_type": "code",
   "execution_count": null,
   "metadata": {},
   "outputs": [],
   "source": [
    "# convert string to integer\n",
    "int(\"5\")"
   ]
  },
  {
   "cell_type": "code",
   "execution_count": null,
   "metadata": {},
   "outputs": [],
   "source": [
    "# Convert integer to float \n",
    "float(5)"
   ]
  },
  {
   "cell_type": "code",
   "execution_count": null,
   "metadata": {},
   "outputs": [],
   "source": [
    "# convert integer to string\n",
    "str(5)"
   ]
  },
  {
   "cell_type": "code",
   "execution_count": null,
   "metadata": {},
   "outputs": [],
   "source": [
    "# convert integer to boolean\n",
    "bool(4)"
   ]
  },
  {
   "cell_type": "code",
   "execution_count": null,
   "metadata": {},
   "outputs": [],
   "source": [
    "# convert empty string to boolean\n",
    "bool(\"\")"
   ]
  },
  {
   "cell_type": "code",
   "execution_count": null,
   "metadata": {},
   "outputs": [],
   "source": [
    "# convert \"False\" string to boolean\n",
    "bool(\"False\")"
   ]
  },
  {
   "cell_type": "markdown",
   "metadata": {},
   "source": [
    "### Truthiness\n",
    "\n",
    "* Any Python thing can be tested for a *truth value*\n",
    "    * convert it with `bool()`\n",
    "* The following conditions are considered false according to the [specification](https://docs.python.org/3/library/stdtypes.html#truth-value-testing)\n",
    "    * constants defined to be false: `None` and `False`\n",
    "    * zero of any numeric type: `0`(int), `0.0`(float), `0j`(complex), `Decimal(0)`([decmial](https://docs.python.org/3/library/decimal.html)), `Fraction(0, 1)`([fractions](https://docs.python.org/3/library/fractions.html))\n",
    "    * empty sequences and collections: '', (), [], {}, set(), range(0) (we will discuss collections next week)\n",
    "* All other things evaluate to `True`"
   ]
  },
  {
   "cell_type": "markdown",
   "metadata": {},
   "source": [
    "## Control flow\n",
    "\n",
    "Control flow allows you to insert decision points in your code to determine the flow of execution"
   ]
  },
  {
   "cell_type": "markdown",
   "metadata": {},
   "source": [
    "### Comparing Values\n",
    "\n",
    "\n",
    "We can use *comparison operators* (<, >, !=, is, is not) and *conditional expressions* (if, else, elif) *control the flow of execution*\n",
    "* if true then do this, else do that\n",
    "* We use *boolean expressions* (True, False) to articulate the Yes/No questions"
   ]
  },
  {
   "cell_type": "code",
   "execution_count": null,
   "metadata": {},
   "outputs": [],
   "source": [
    "# testing for equality\n",
    "5 == 5"
   ]
  },
  {
   "cell_type": "code",
   "execution_count": null,
   "metadata": {},
   "outputs": [],
   "source": [
    "# Does five equal six?\n",
    "5 == 6"
   ]
  },
  {
   "cell_type": "code",
   "execution_count": null,
   "metadata": {},
   "outputs": [],
   "source": [
    "# Does six not equal five?\n",
    "6 != 5"
   ]
  },
  {
   "cell_type": "markdown",
   "metadata": {},
   "source": [
    "* Note the **double equals** sign, if we had one equals we would be a variable assignment.\n",
    "* `==` is called a *comparison operators* and it has many friends:\n",
    "```python\n",
    "x != y               # x is not equal to y\n",
    "x > y                # x is greater than y\n",
    "x < y                # x is less than y\n",
    "x >= y               # x is greater than or equal to y\n",
    "x <= y               # x is less than or equal to y\n",
    "x is y               # x is the same as y  # compares identity, not just value\n",
    "x is not y           # x is not the same as y\n",
    "```"
   ]
  },
  {
   "cell_type": "markdown",
   "metadata": {},
   "source": [
    "### Logical Operators\n"
   ]
  },
  {
   "cell_type": "markdown",
   "metadata": {},
   "source": [
    "Use `and` and `or` and `not` to create complex logical expressions"
   ]
  },
  {
   "cell_type": "code",
   "execution_count": null,
   "metadata": {},
   "outputs": [],
   "source": [
    "# Truth tables for and operator\n",
    "print(\"True and True   - \", True and True)\n",
    "print(\"True and False  - \", True and False)\n",
    "print(\"False and True  - \", False and True)\n",
    "print(\"False and False - \", False and False)"
   ]
  },
  {
   "cell_type": "code",
   "execution_count": null,
   "metadata": {},
   "outputs": [],
   "source": [
    "# Truth tables for or operator\n",
    "print(\"True or True   - \", True or True)\n",
    "print(\"True or False  - \", True or False)\n",
    "print(\"False or True  - \", False or True)\n",
    "print(\"False or False - \", False or False)"
   ]
  },
  {
   "cell_type": "code",
   "execution_count": null,
   "metadata": {},
   "outputs": [],
   "source": [
    "# Truth tables for not operator\n",
    "print(\"Not True  - \", not True)\n",
    "print(\"Not False  - \", not False)"
   ]
  },
  {
   "cell_type": "markdown",
   "metadata": {},
   "source": [
    "### Conditional Execution\n",
    "\n",
    "* Using these conditional expressions we can then let the program make decisions\n",
    "* The `if`, `else`, and `elif` statements allow us to steer the direction of your program \n",
    "    * or  *control* the *flow* of execution\n",
    "    "
   ]
  },
  {
   "cell_type": "code",
   "execution_count": null,
   "metadata": {},
   "outputs": [],
   "source": [
    "# Try changig the value of age\n",
    "age = 900\n",
    "\n",
    "if 0 < age < 1:\n",
    "    print(\"you a baby\")\n",
    "elif 1 <= age <= 3:\n",
    "    print(\"you a toddler\")\n",
    "elif 3 <= age <= 9:\n",
    "    print(\"you a kid\")\n",
    "elif 10 <= age <= 12:\n",
    "    print(\"you a tween\")\n",
    "elif 13 <= age <= 17:\n",
    "    print(\"you a teen\")\n",
    "elif 18 <= age < 120:\n",
    "    print(\"You an Adult, welcome to misery.\")\n",
    "else:\n",
    "    print(\"No one can live that long!\")\n",
    "    "
   ]
  },
  {
   "cell_type": "markdown",
   "metadata": {},
   "source": [
    "### Functions\n",
    "\n",
    "Functions are important because they allow for the re-use and modularization of your code. Function have three important components:\n",
    "\n",
    "* **Function name** - this is the name we are going to use to \"run\" that block of code we put in our function.  We want to be very careful about the words we use. These are words like \"print\" and \"type\" we've seen above.  Pick function names that make sense and that are easy to recall.\n",
    "\n",
    "* **Parameters** - these are the values or variables that a function accepts as input. When calling a function, parameters are \"passed\" to the function when placed in parentheses `()` after the function name.  Functions can pass more than one parameter, these are seperated by a comma `,`.\n",
    "\n",
    "* **Return values** - All functions \"do some work\" but some functions don't return anything.  Others have return values.  Print is an example of a function that does not return a new value.  We call these functions \"void\" functions, meaning their return type is void.  The other functions above have return values.  Type returns a variable type; max and min return a single character string; len returns an int."
   ]
  },
  {
   "cell_type": "markdown",
   "metadata": {},
   "source": [
    "### Defining a Function\n",
    "\n",
    "![Anatomy of a function](https://swcarpentry.github.io/python-novice-inflammation/fig/python-function.svg)\n",
    "\n",
    "*Image used without permission. [Software Carpentry](https://swcarpentry.github.io/python-novice-inflammation/08-func/index.html).*"
   ]
  },
  {
   "cell_type": "code",
   "execution_count": null,
   "metadata": {},
   "outputs": [],
   "source": [
    "# define a celsius to fahrenheit conversion function\n",
    "def celsius_to_fahr(temp):\n",
    "    return 9/5 * temp + 32 # the expression 9/5 * temp + 32 evaluates to a single value"
   ]
  },
  {
   "cell_type": "code",
   "execution_count": null,
   "metadata": {},
   "outputs": [],
   "source": [
    "# define a fahrenheit to celsius conversion function\n",
    "def fahr_to_celsius(temp):\n",
    "    return ((temp - 32) * (5/9))"
   ]
  },
  {
   "cell_type": "code",
   "execution_count": null,
   "metadata": {},
   "outputs": [],
   "source": [
    "# define a celsius to kelvin function\n",
    "def celsius_to_kelvin(temp_c):\n",
    "    return temp_c + 273.15"
   ]
  },
  {
   "cell_type": "markdown",
   "metadata": {},
   "source": [
    "### Calling Functions\n",
    "\n",
    "Calling a function will replace the entire function call with the value it returns. Function calls are *expressions*."
   ]
  },
  {
   "cell_type": "code",
   "execution_count": null,
   "metadata": {},
   "outputs": [],
   "source": [
    "# call pass the parameter 100 to the function\n",
    "celsius_to_fahr(100) # will return 212.0"
   ]
  },
  {
   "cell_type": "code",
   "execution_count": null,
   "metadata": {},
   "outputs": [],
   "source": [
    "# call pass the parameter 100 to the function\n",
    "fahr_to_celsius(68) # it will return 20"
   ]
  },
  {
   "cell_type": "code",
   "execution_count": null,
   "metadata": {},
   "outputs": [],
   "source": [
    "# call celsius_to_kelvin with the output of fahr_to_celsius\n",
    "celsius_to_kelvin(fahr_to_celsius(68))"
   ]
  },
  {
   "cell_type": "code",
   "execution_count": null,
   "metadata": {},
   "outputs": [],
   "source": [
    "# same as above with the inner function evaluated\n",
    "celsius_to_kelvin(20.0)"
   ]
  },
  {
   "cell_type": "code",
   "execution_count": null,
   "metadata": {},
   "outputs": [],
   "source": [
    "print(\"The boiling point of water in kelvin is: \" + str(celsius_to_kelvin(fahr_to_celsius(212))) + \"K\")"
   ]
  },
  {
   "cell_type": "markdown",
   "metadata": {},
   "source": [
    "### Methods are functions\n",
    "\n",
    "Methods are a special kind of function associated with specific objects. Methods are called with a dot `.`, method name, and parentheses `()`. Methods will automatically be passed the value before the dot."
   ]
  },
  {
   "cell_type": "code",
   "execution_count": null,
   "metadata": {},
   "outputs": [],
   "source": [
    "# string method upper\n",
    "\"boo\".upper()"
   ]
  },
  {
   "cell_type": "code",
   "execution_count": null,
   "metadata": {},
   "outputs": [],
   "source": [
    "scary = \"boo\"\n",
    "scary.upper()"
   ]
  },
  {
   "cell_type": "code",
   "execution_count": null,
   "metadata": {},
   "outputs": [],
   "source": [
    "my_list = [1,2,3,4]\n",
    "my_list.append(\"cat\")\n",
    "my_list"
   ]
  },
  {
   "cell_type": "code",
   "execution_count": null,
   "metadata": {},
   "outputs": [],
   "source": [
    "my_list.append(\"cat\")\n",
    "my_list.append(\"cat\")\n",
    "my_list.append(\"cat\")\n",
    "\n",
    "# How many cats? call the count method\n",
    "my_list.count('cat')"
   ]
  },
  {
   "cell_type": "code",
   "execution_count": null,
   "metadata": {},
   "outputs": [],
   "source": [
    "# len is not a method, it is a global function\n",
    "# so you have to pass it the lsit\n",
    "len(my_list)"
   ]
  },
  {
   "cell_type": "markdown",
   "metadata": {},
   "source": [
    "### Modules\n",
    "\n",
    "The [Python Standard Library](https://docs.python.org/3/library/index.html) is a collection of Other People's Python. You can use their functions, but you have to explicitly load it with the `import` statement.\n",
    "\n",
    "Like going to a library to checkout a book rather than reading the book you have at home."
   ]
  },
  {
   "cell_type": "code",
   "execution_count": null,
   "metadata": {},
   "outputs": [],
   "source": [
    "# checkout the calendar module from the library\n",
    "import calendar\n",
    "calendar.prmonth(2021,2)"
   ]
  },
  {
   "cell_type": "markdown",
   "metadata": {},
   "source": [
    "Modules and 3rd party libraries will be covered in more detail in the coming weeks."
   ]
  },
  {
   "cell_type": "markdown",
   "metadata": {},
   "source": [
    "## Iteration\n",
    "\n",
    "Iteration allows you to process large amounts of data with only a few lines of code. There are two kinds of looping mechanisms in Python.\n",
    "\n",
    "### While Loops\n",
    "Use the `while` loop to iterate over a *block* of code until a *condition* is true.\n",
    "\n",
    "```python\n",
    "while <conditional expression>:\n",
    "    <python statement>\n",
    "    <another python statement>\n",
    "```\n",
    "Be careful with infinite loops!\n",
    "\n",
    "```python\n",
    "while 5 == 5: # 5 always equals five\n",
    "    print(\"Never run this code\")\n",
    "    print(\"It will make JupyterHub cry\")\n",
    "\n",
    "```"
   ]
  },
  {
   "cell_type": "code",
   "execution_count": null,
   "metadata": {},
   "outputs": [],
   "source": [
    "n = 10\n",
    "while n > 0:\n",
    "    print(n)\n",
    "    n = n - 1\n",
    "print(\"blastoff\")"
   ]
  },
  {
   "cell_type": "markdown",
   "metadata": {},
   "source": [
    "### For Loops\n",
    "\n",
    "Use the `for` loop to iterate over a sequence of items until you reach the end of the sequence.\n",
    "\n",
    "![Anatomy of a for loop](https://i.imgur.com/91NoaP0.jpg)\n",
    "\n",
    "*Image used without permission. [Dataquest](https://www.dataquest.io/blog/python-generators-tutorial/)*"
   ]
  },
  {
   "cell_type": "code",
   "execution_count": null,
   "metadata": {},
   "outputs": [],
   "source": [
    "# example from https://geo-python.github.io/site/notebooks/L3/for-loops.html\n",
    "\n",
    "# create a list of weather conditions\n",
    "weather_conditions = ['rain', 'sleet', 'snow', 'freezing fog', 'sunny', 'cloudy', 'ice pellets']\n",
    "\n",
    "# loop over each element in the weather_conditions list \n",
    "for weather in weather_conditions:\n",
    "    print(weather) # print the current value of the weather variable"
   ]
  },
  {
   "cell_type": "markdown",
   "metadata": {},
   "source": [
    "## Collections\n",
    "\n",
    "Python provides several data structures for containing and structuring collections of data.\n",
    "\n",
    "### Lists\n",
    "A sequence of values, with a numerical index starting at zero. Lists may be constructed in several ways:\n",
    "\n",
    "* Using a pair of square brackets to denote the empty list: `[]`\n",
    "* Using square brackets, separating items with commas: `[a]`, `[a, b, c]`\n",
    "* Using the type constructor: `list()` or `list(sequence)`"
   ]
  },
  {
   "cell_type": "code",
   "execution_count": null,
   "metadata": {},
   "outputs": [],
   "source": [
    "# make a list of farm animals\n",
    "matt_farm = [\"barn cat\", \"cattle dog\", \"cows\", \"chickens\", \"ducks\", \"goats\", \"alpaca\", \"spiders\"]"
   ]
  },
  {
   "cell_type": "code",
   "execution_count": null,
   "metadata": {},
   "outputs": [],
   "source": [
    "# add some horses and pigs to the farm\n",
    "matt_farm.append(\"horses\")\n",
    "matt_farm.append(\"pigs\")\n",
    "# See my menagerie\n",
    "matt_farm"
   ]
  },
  {
   "cell_type": "markdown",
   "metadata": {},
   "source": [
    "### Indexing and Slicing a list\n",
    "\n",
    "*Index* a list by putting square brackets and a number at the end of a list, you can extract a value from list: `<listname>[<index>]`. "
   ]
  },
  {
   "cell_type": "code",
   "execution_count": null,
   "metadata": {},
   "outputs": [],
   "source": [
    "# get the item at index position two\n",
    "matt_farm[2] # cows?"
   ]
  },
  {
   "cell_type": "markdown",
   "metadata": {},
   "source": [
    "*Slice* a list by putting square brackets and two numbers separated by a colon: `<listname>[<start>: <end>]` Note, start is inclusive, end is exclusive."
   ]
  },
  {
   "cell_type": "code",
   "execution_count": null,
   "metadata": {},
   "outputs": [],
   "source": [
    "# fowl slice \n",
    "matt_farm[3:5]"
   ]
  },
  {
   "cell_type": "markdown",
   "metadata": {},
   "source": [
    "Lists work nicely with `for` loops when used as the sequence to iterate over."
   ]
  },
  {
   "cell_type": "code",
   "execution_count": null,
   "metadata": {},
   "outputs": [],
   "source": [
    "for animal in matt_farm:\n",
    "    if animal == \"spiders\":\n",
    "        continue # skip spiders\n",
    "    else:\n",
    "        print(animal) # print the value of animal"
   ]
  },
  {
   "cell_type": "code",
   "execution_count": null,
   "metadata": {},
   "outputs": [],
   "source": [
    "# use the remove list method to EXTERMINATE the spiders\n",
    "matt_farm.remove(\"spiders\")\n",
    "matt_farm"
   ]
  },
  {
   "cell_type": "markdown",
   "metadata": {},
   "source": [
    "![Burn the spider](https://media.giphy.com/media/MdPZFGgDL3PC8/giphy.gif)"
   ]
  },
  {
   "cell_type": "markdown",
   "metadata": {},
   "source": [
    "### Strings\n",
    "\n",
    "The string base datatype is technically a *sequence* of characters. It is a more complex object, which means it has methods"
   ]
  },
  {
   "cell_type": "code",
   "execution_count": null,
   "metadata": {},
   "outputs": [],
   "source": [
    "my_string = \"I am a string\"\n",
    "type(my_string)"
   ]
  },
  {
   "cell_type": "code",
   "execution_count": null,
   "metadata": {},
   "outputs": [],
   "source": [
    "# loop over a string as a sequence of characters\n",
    "for character in my_string:\n",
    "    print(character)"
   ]
  },
  {
   "cell_type": "markdown",
   "metadata": {},
   "source": [
    "### Indexing and Slicing a String"
   ]
  },
  {
   "cell_type": "code",
   "execution_count": null,
   "metadata": {},
   "outputs": [],
   "source": [
    "# give me the character at index position 5\n",
    "my_string[5]"
   ]
  },
  {
   "cell_type": "code",
   "execution_count": null,
   "metadata": {},
   "outputs": [],
   "source": [
    "# Create a new string\n",
    "city_name = \"Pittsburgh\"\n",
    "print(city_name[0:4])\n",
    "print(city_name[-5:]) # slice startings and the end minus 5 and continue to the end"
   ]
  },
  {
   "cell_type": "markdown",
   "metadata": {},
   "source": [
    "### String Methods\n",
    "\n",
    "Python provides a set of [String Methods](https://docs.python.org/3/library/stdtypes.html#string-methods) for transforming and manipulating strings. Like list methods, use the dot, method name, and parentheses surrounding parameters (if applicable) to call the method.\n",
    "\n",
    "`<string>.<method>(<parameter>)`"
   ]
  },
  {
   "cell_type": "code",
   "execution_count": null,
   "metadata": {},
   "outputs": [],
   "source": [
    "# make a string of words and then split\n",
    "my_string = \"We built this city on rock and roll and steel n'at.\"\n",
    "my_string.split() #split defaults to spaces"
   ]
  },
  {
   "cell_type": "markdown",
   "metadata": {},
   "source": [
    "We can use string looping, slicing, and string methods to do some data science on strings."
   ]
  },
  {
   "cell_type": "code",
   "execution_count": null,
   "metadata": {},
   "outputs": [],
   "source": [
    "# create a string of some classic song lyrics\n",
    "lyric = \"cash rules everything around me\"\n",
    "# create an empty list for storing letters\n",
    "letters = []\n",
    "# Use the split function to create a list of words and loop over the list\n",
    "for word in lyric.split():\n",
    "    # append the first letter of the word converted to uppercase to the list \n",
    "    letters.append(word[0].upper()) \n",
    "\n",
    "# Join all the items in the string together with periods\n",
    "greatest_wu_tang_song = \".\".join(letters)\n",
    "print(greatest_wu_tang_song)"
   ]
  },
  {
   "cell_type": "markdown",
   "metadata": {},
   "source": [
    "### Dictionaries\n",
    "\n",
    "![Dictionary Picture](http://www.trytoprogram.com/images/python_dictionary.jpg)\n",
    "\n",
    "*Image used without permission from [Trytoprogram](http://www.trytoprogram.com/python-programming/python-dictionary/)*\n",
    "\n",
    "Dictionaries can be created by several means:\n",
    "\n",
    "* Using a pair of curly braces to denote the empty dictionary: `{}`\n",
    "* Use a comma-separated list of key: value pairs within braces: `{'jack': 4098, 'sjoerd': 4127} or {4098: 'jack', 4127: 'sjoerd'}`\n",
    "* Use the type constructor: `dict()`, `dict([('foo', 100), ('bar', 200)])`, `dict(foo=100, bar=200)`"
   ]
  },
  {
   "cell_type": "code",
   "execution_count": null,
   "metadata": {},
   "outputs": [],
   "source": [
    "word_of_the_day = {} # create an empty dictionary\n",
    "word_of_the_day['megillah'] = \"a long involved story or account\"\n",
    "word_of_the_day['cognoscente'] = \"a person who has expert knowledge in a subject\"\n",
    "word_of_the_day['perdure']  = \"to continue to exist\""
   ]
  },
  {
   "cell_type": "code",
   "execution_count": null,
   "metadata": {},
   "outputs": [],
   "source": [
    "# what does megillah means?\n",
    "word_of_the_day['megillah']"
   ]
  },
  {
   "cell_type": "markdown",
   "metadata": {},
   "source": [
    "You can loop over dictionaries too, but observe the looping variable will be the key so you still have to look up the value."
   ]
  },
  {
   "cell_type": "code",
   "execution_count": null,
   "metadata": {},
   "outputs": [],
   "source": [
    "# loop over the keys in the dictionary\n",
    "for word in word_of_the_day:\n",
    "    # lookup each key\n",
    "    print(\"The word\", word, \"means\", word_of_the_day[word])"
   ]
  },
  {
   "cell_type": "markdown",
   "metadata": {},
   "source": [
    "## Files\n",
    "\n",
    "The [open() function](https://docs.python.org/3/library/functions.html#open) gives Python the power to programmatically read data from the hard drive. When you call this function, you get back a *file hanlder* that points to the file. This is handy with *really big* files."
   ]
  },
  {
   "cell_type": "code",
   "execution_count": null,
   "metadata": {},
   "outputs": [],
   "source": [
    "# open a file handler to a text file in the files directory\n",
    "fileHandle = open('files/romeo.txt')"
   ]
  },
  {
   "cell_type": "code",
   "execution_count": null,
   "metadata": {},
   "outputs": [],
   "source": [
    "# iterate over each line in the file using the loop\n",
    "numberOfLines = 0\n",
    "for line in fileHandle :\n",
    "    numberOfLines += 1\n",
    "    \n",
    "print(numberOfLines)"
   ]
  },
  {
   "cell_type": "markdown",
   "metadata": {},
   "source": [
    "Always remember to close your files when done!"
   ]
  },
  {
   "cell_type": "code",
   "execution_count": null,
   "metadata": {},
   "outputs": [],
   "source": [
    "fileHandle.close()"
   ]
  },
  {
   "cell_type": "markdown",
   "metadata": {},
   "source": [
    "To re-read a file you must re-open the file.\n",
    "\n",
    "Use the `read()` method to read the entire contents of a file into a string. "
   ]
  },
  {
   "cell_type": "code",
   "execution_count": null,
   "metadata": {},
   "outputs": [],
   "source": [
    "# open a file handler to a text file in the files directory\n",
    "fileHandle = open('files/romeo.txt')\n",
    "\n",
    "# read all of romeo\n",
    "whole_file = fileHandle.read()\n",
    "\n",
    "\n",
    "# display the whole_file variable\n",
    "whole_file"
   ]
  },
  {
   "cell_type": "code",
   "execution_count": null,
   "metadata": {},
   "outputs": [],
   "source": [
    "# don't forget to close the file when you are done!\n",
    "fileHandle.close()"
   ]
  },
  {
   "cell_type": "markdown",
   "metadata": {},
   "source": [
    "Now we can work with the data without worrying about the file"
   ]
  },
  {
   "cell_type": "code",
   "execution_count": null,
   "metadata": {},
   "outputs": [],
   "source": [
    "neo_romeo = whole_file.replace('she', \"JULIET\").replace(\"She\", \"JULIET\")\n",
    "print(neo_romeo) # use print to see newlines\n"
   ]
  },
  {
   "cell_type": "markdown",
   "metadata": {},
   "source": [
    "We have re-written the play, we should write it to disk.\n",
    "\n",
    "Use the `with` statement to automatically close the file handler"
   ]
  },
  {
   "cell_type": "code",
   "execution_count": null,
   "metadata": {},
   "outputs": [],
   "source": [
    "# write a file to the current directory\n",
    "with open(\"neo-romeo.txt\", \"w\") as fileh:\n",
    "    fileh.write(neo_romeo)"
   ]
  },
  {
   "cell_type": "markdown",
   "metadata": {},
   "source": [
    "## Putting it all together - Stylometrics\n",
    "\n",
    "\n",
    "Don't be afraid of the $5 word, it just a technique for analyzing texts (usually to [determine authorship](https://www.latimes.com/science/sciencenow/la-sci-sn-shakespeare-play-linguistic-analysis-20150410-story.html)). Computational Stylometics does a lot of fancy statistics, but much of it is based on *counting words*.\n",
    "\n",
    "Given the text `romeo.txt`, we want to write a program that counts all the words."
   ]
  },
  {
   "cell_type": "code",
   "execution_count": null,
   "metadata": {},
   "outputs": [],
   "source": [
    "# open romeo.text and read it all in at once\n",
    "with open(\"files/romeo.txt\", \"r\") as swoon_handler:\n",
    "    romeo = swoon_handler.read()\n",
    "    \n",
    "#swoon\n",
    "print(romeo)"
   ]
  },
  {
   "cell_type": "markdown",
   "metadata": {},
   "source": [
    "### Computational Thinking\n",
    "\n",
    "If we want to count the words in the text above, we need to do the following things.\n",
    "\n",
    "1. Normalize the text by removing punctuation and converting to lowercase.\n",
    "2. Split the string of text into a list of words\n",
    "3. Loop over the list and count each instance of a word"
   ]
  },
  {
   "cell_type": "code",
   "execution_count": null,
   "metadata": {},
   "outputs": [],
   "source": [
    "# convert everything to lowercase\n",
    "romeo.lower()"
   ]
  },
  {
   "cell_type": "markdown",
   "metadata": {},
   "source": [
    "Now we have everything in lowercase, but we need to remove the punctuation. Now, we can use the `replace()` string method and manually identify and remove each punctuation mark. Its ugly but it works."
   ]
  },
  {
   "cell_type": "code",
   "execution_count": null,
   "metadata": {},
   "outputs": [],
   "source": [
    "# ugly approach to removing punctuation\n",
    "romeo_no_punc = romeo.replace(\".\",\"\").replace(\",\",\"\").replace(\"!\",\"\").replace(\"'\",\"\").replace(\":\",\"\").replace(\"?\",\"\").replace(\";\",\"\")\n",
    "romeo_no_punc"
   ]
  },
  {
   "cell_type": "markdown",
   "metadata": {},
   "source": [
    "Now lets lowercase ever word."
   ]
  },
  {
   "cell_type": "code",
   "execution_count": null,
   "metadata": {},
   "outputs": [],
   "source": [
    "# normalize the text\n",
    "romeo_normalized = romeo_no_punc.lower()\n",
    "romeo_normalized"
   ]
  },
  {
   "cell_type": "markdown",
   "metadata": {},
   "source": [
    "Now we can do computational thinking step 2: split the string of words into a list. Also an easy task thanks to the string method `split()` which will automatically split on whitespace"
   ]
  },
  {
   "cell_type": "code",
   "execution_count": null,
   "metadata": {},
   "outputs": [],
   "source": [
    "#split text into a list of words\n",
    "romeo_list = romeo_normalized.split()\n",
    "romeo_list[0:10] #look at the first 10 words in the list"
   ]
  },
  {
   "cell_type": "markdown",
   "metadata": {},
   "source": [
    "Ok, now we can do the final step, which is loop over each word and count them up in a dictionary"
   ]
  },
  {
   "cell_type": "code",
   "execution_count": null,
   "metadata": {},
   "outputs": [],
   "source": [
    "# create a counter\n",
    "word_counter = {}\n",
    "\n",
    "# loop over each wor\n",
    "for word in romeo_list:\n",
    "    # check to see if we have encountered the word\n",
    "    if word not in word_counter:\n",
    "        # have not seen this word before, so create a key with value 1\n",
    "        word_counter[word] = 1\n",
    "    else: \n",
    "        # we have seen this word before, so increment the value by 1\n",
    "        word_counter[word] += 1\n",
    "\n",
    "print(word_counter)"
   ]
  },
  {
   "cell_type": "markdown",
   "metadata": {},
   "source": [
    "![THe bard](https://media.giphy.com/media/oveqQA2LxpwYg/giphy.gif)"
   ]
  },
  {
   "cell_type": "code",
   "execution_count": null,
   "metadata": {},
   "outputs": [],
   "source": []
  },
  {
   "cell_type": "code",
   "execution_count": null,
   "metadata": {},
   "outputs": [],
   "source": []
  },
  {
   "cell_type": "code",
   "execution_count": null,
   "metadata": {},
   "outputs": [],
   "source": []
  },
  {
   "cell_type": "code",
   "execution_count": null,
   "metadata": {},
   "outputs": [],
   "source": []
  },
  {
   "cell_type": "code",
   "execution_count": null,
   "metadata": {},
   "outputs": [],
   "source": []
  },
  {
   "cell_type": "code",
   "execution_count": null,
   "metadata": {},
   "outputs": [],
   "source": []
  },
  {
   "cell_type": "code",
   "execution_count": null,
   "metadata": {},
   "outputs": [],
   "source": []
  },
  {
   "cell_type": "code",
   "execution_count": null,
   "metadata": {},
   "outputs": [],
   "source": []
  },
  {
   "cell_type": "code",
   "execution_count": null,
   "metadata": {},
   "outputs": [],
   "source": []
  },
  {
   "cell_type": "code",
   "execution_count": null,
   "metadata": {},
   "outputs": [],
   "source": []
  }
 ],
 "metadata": {
  "kernelspec": {
   "display_name": "Python 3 (ipykernel)",
   "language": "python",
   "name": "python3"
  },
  "language_info": {
   "codemirror_mode": {
    "name": "ipython",
    "version": 3
   },
   "file_extension": ".py",
   "mimetype": "text/x-python",
   "name": "python",
   "nbconvert_exporter": "python",
   "pygments_lexer": "ipython3",
   "version": "3.8.8"
  }
 },
 "nbformat": 4,
 "nbformat_minor": 4
}
