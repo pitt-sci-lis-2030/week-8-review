{
 "cells": [
  {
   "cell_type": "markdown",
   "id": "b2bbfdea-144f-478d-a8ce-505a62d939fc",
   "metadata": {},
   "source": [
    "# A Working Example\n",
    "\n",
    "We've learned a lot about the tools, but we've not used a lot of the tools together.  In this example, we're going to load two CSV files, construct a dictionary using data from both files, and then use that dictionary to combine the data to make a mathmatical calculation.\n",
    "\n",
    "Let's start with the data files:"
   ]
  },
  {
   "cell_type": "markdown",
   "id": "f837e545-5cd0-4d9d-99e7-393bfb9b3603",
   "metadata": {},
   "source": [
    "Pittsburgh American Community Survey 2015, School Enrollment:\n",
    "https://data.wprdc.org/dataset/pittsburgh-american-community-survey-2015-school-enrollment\n",
    "\n",
    "Pittsburgh American Community Survey 2015, Household Types:\n",
    "https://data.wprdc.org/dataset/pittsburgh-american-community-survey-data-household-types"
   ]
  },
  {
   "cell_type": "markdown",
   "id": "a52b6b84-748a-4d70-ae5e-bb8096bde0cd",
   "metadata": {},
   "source": [
    "## Let's start by loading the first data and create our dictionary"
   ]
  },
  {
   "cell_type": "code",
   "execution_count": null,
   "id": "c7d9bfc3-f1eb-4d35-b4b5-6f6412b12d4d",
   "metadata": {},
   "outputs": [],
   "source": [
    "# load the csv module into memory\n",
    "import csv"
   ]
  },
  {
   "cell_type": "code",
   "execution_count": null,
   "id": "0eedf34f-81c7-415f-a6d8-145b60f21f76",
   "metadata": {},
   "outputs": [],
   "source": [
    "# open the csv file and loop over the contents\n",
    "fileHandle = open('files/school-enrollment-by-detailed-level-of-school-for-the-population-3-years-and-over.csv', 'r')\n",
    "\n",
    "# create the special csv reader object that knows how to parse the file\n",
    "csv_reader = csv.reader(fileHandle)\n",
    "\n",
    "#read the first line\n",
    "first_line = next(csv_reader)\n",
    "\n",
    "# print the line\n",
    "print(first_line)\n",
    "\n",
    "print(\"--\")\n",
    "\n",
    "#read the second line\n",
    "second_line = next(csv_reader)\n",
    "\n",
    "# print the line\n",
    "print(second_line)\n",
    "\n",
    "fileHandle.close()"
   ]
  },
  {
   "cell_type": "markdown",
   "id": "090b28b9-bdb4-4bb2-88ba-005dee001f34",
   "metadata": {},
   "source": [
    "Now we know the structure, let's write a loop to iterate through the file.  We're also going to start populating a new dictionary.  We're going to create a dictionary of dictionaries, a pattern that we have seen in lecture.  The outer dictionary will use neighborhood name as the key, the value will be another dictionary.  In the inner dictionary we will store a new key called \"enrollment\" and the value is the actually enrollment number from the CSV file for each neighborhood."
   ]
  },
  {
   "cell_type": "code",
   "execution_count": null,
   "id": "3fe3bb70-b29d-408b-9c48-89cc9c255e94",
   "metadata": {},
   "outputs": [],
   "source": [
    "myDictionary = {}"
   ]
  },
  {
   "cell_type": "code",
   "execution_count": null,
   "id": "de489efa-00b6-4f07-8e0d-dc18320d4af7",
   "metadata": {},
   "outputs": [],
   "source": [
    "# open the csv file and loop over the contents\n",
    "fileHandle = open('files/school-enrollment-by-detailed-level-of-school-for-the-population-3-years-and-over.csv', 'r')\n",
    "\n",
    "# create the special csv reader object that knows how to parse the file\n",
    "csv_reader = csv.reader(fileHandle)\n",
    "\n",
    "# skip over the headers\n",
    "next(csv_reader)\n",
    "\n",
    "# loop over each line\n",
    "for row in csv_reader:\n",
    "    innerDictionary = {\"enrollment\": float(row[2])}\n",
    "    \n",
    "    myDictionary[row[0]] = innerDictionary\n",
    "    \n",
    "    \n",
    "fileHandle.close()"
   ]
  },
  {
   "cell_type": "code",
   "execution_count": null,
   "id": "6b215326-cd6a-4bf2-b4a8-9f4283bdd420",
   "metadata": {},
   "outputs": [],
   "source": [
    "# let's check our work\n",
    "myDictionary"
   ]
  },
  {
   "cell_type": "markdown",
   "id": "fc37761b-3487-4f94-a0fe-a210228bdcfa",
   "metadata": {},
   "source": [
    "## Now let's add data from the second file's structure\n",
    "\n",
    "Let's start with looking at the second file's structure the same way we did the first:"
   ]
  },
  {
   "cell_type": "code",
   "execution_count": null,
   "id": "40677369-7cc9-4bbd-a7c8-6195ee96af80",
   "metadata": {},
   "outputs": [],
   "source": [
    "# open the csv file and loop over the contents\n",
    "fileHandle = open('files/household-type-including-living-alone.csv', 'r')\n",
    "\n",
    "# create the special csv reader object that knows how to parse the file\n",
    "csv_reader = csv.reader(fileHandle)\n",
    "\n",
    "#read the first line\n",
    "first_line = next(csv_reader)\n",
    "\n",
    "# print the line\n",
    "print(first_line)\n",
    "\n",
    "print(\"--\")\n",
    "\n",
    "#read the second line\n",
    "second_line = next(csv_reader)\n",
    "\n",
    "# print the line\n",
    "print(second_line)\n",
    "\n",
    "fileHandle.close()"
   ]
  },
  {
   "cell_type": "markdown",
   "id": "4d537977-430a-4cc2-9c6d-8e80f54dc5eb",
   "metadata": {},
   "source": [
    "Now we want to read in the other file, but rather than create a new dictionary, we're going to add to the one we created.  We're going to create a new entry in each inner dictionary to add a new key \"household\" that has a value representing the number of households."
   ]
  },
  {
   "cell_type": "code",
   "execution_count": null,
   "id": "97a3b0f5-14b4-4304-b2d2-ecde22ba91a6",
   "metadata": {},
   "outputs": [],
   "source": [
    "# open the csv file and loop over the contents\n",
    "fileHandle = open('files/household-type-including-living-alone.csv', 'r')\n",
    "\n",
    "# create the special csv reader object that knows how to parse the file\n",
    "csv_reader = csv.reader(fileHandle)\n",
    "\n",
    "# skip over the headers\n",
    "next(csv_reader)\n",
    "\n",
    "# loop over each line\n",
    "for row in csv_reader:\n",
    "    myDictionary[row[0]]['household'] = float(row[2])\n",
    "    \n",
    "    \n",
    "fileHandle.close()"
   ]
  },
  {
   "cell_type": "code",
   "execution_count": null,
   "id": "13349759-ef70-441d-9490-56adfddb13fb",
   "metadata": {},
   "outputs": [],
   "source": [
    "# let's check our work\n",
    "myDictionary"
   ]
  },
  {
   "cell_type": "markdown",
   "id": "0e8d21a7-7775-451d-a5a8-6321b26f83cc",
   "metadata": {},
   "source": [
    "## Now, let's do some calculating\n",
    "\n",
    "Specifically, let's create an average enrollment per household.  We will do this by dividing enrollment by household size for each neighborhood."
   ]
  },
  {
   "cell_type": "code",
   "execution_count": null,
   "id": "079aec46-4522-49ae-ab2f-128508b84d56",
   "metadata": {},
   "outputs": [],
   "source": [
    "#lets iterate through our dictionary\n",
    "for neighborhood in myDictionary.values():\n",
    "    #calcualte ratio\n",
    "    ratio = neighborhood['enrollment']/neighborhood['household']\n",
    "    \n",
    "    #save ratio back to dictionary\n",
    "    neighborhood['ratio'] = ratio"
   ]
  },
  {
   "cell_type": "code",
   "execution_count": null,
   "id": "7f9975c0-c0ce-45d3-a33a-01226c448e91",
   "metadata": {},
   "outputs": [],
   "source": [
    "myDictionary"
   ]
  },
  {
   "cell_type": "markdown",
   "id": "0d49784b-bda9-4d06-ab9a-a0b6e19a9d39",
   "metadata": {},
   "source": [
    "## Now let's find the highest and lowest ratios"
   ]
  },
  {
   "cell_type": "code",
   "execution_count": null,
   "id": "0bf050a6-e86e-418b-add3-313e8d336c64",
   "metadata": {},
   "outputs": [],
   "source": [
    "biggestNeighborhood = ''\n",
    "biggestNeighborhoodRatio = float('-inf')\n",
    "\n",
    "smallestNeighborhood = ''\n",
    "smallestNeighborhoodRatio = float('inf')\n",
    "\n",
    "\n",
    "for neighborhood, innerDictionary in myDictionary.items():\n",
    "    \n",
    "    if innerDictionary['ratio'] > biggestNeighborhoodRatio :\n",
    "        biggestNeighborhoodRatio = innerDictionary['ratio']\n",
    "        biggestNeighborhood = neighborhood\n",
    "        \n",
    "    \n",
    "    if innerDictionary['ratio'] < smallestNeighborhoodRatio :\n",
    "        smallestNeighborhoodRatio = innerDictionary['ratio']\n",
    "        smallestNeighborhood = neighborhood\n",
    "    "
   ]
  },
  {
   "cell_type": "code",
   "execution_count": null,
   "id": "10195285-8b33-499d-92cb-fcc5d5648b3d",
   "metadata": {},
   "outputs": [],
   "source": [
    "print('Biggest neighborhood ratio is: ' + str(biggestNeighborhoodRatio) + \" in \" + biggestNeighborhood)"
   ]
  },
  {
   "cell_type": "code",
   "execution_count": null,
   "id": "69b50e43-0803-4300-8159-1909886849df",
   "metadata": {},
   "outputs": [],
   "source": [
    "print('Smallest neighborhood ratio is: ' + str(smallestNeighborhoodRatio) + \" in \" + smallestNeighborhood)"
   ]
  },
  {
   "cell_type": "markdown",
   "id": "ef3c9550-8ca4-4668-bcc4-cd10cb60794f",
   "metadata": {},
   "source": [
    "### WTF?!?!?"
   ]
  },
  {
   "cell_type": "code",
   "execution_count": null,
   "id": "f15653a3-daa6-4db7-acfd-4c1e68c88416",
   "metadata": {},
   "outputs": [],
   "source": [
    "myDictionary['Bluff']"
   ]
  },
  {
   "cell_type": "code",
   "execution_count": null,
   "id": "3f0d02d5-f497-4d60-b660-4cfe5b796c8b",
   "metadata": {},
   "outputs": [],
   "source": []
  }
 ],
 "metadata": {
  "kernelspec": {
   "display_name": "Python 3 (ipykernel)",
   "language": "python",
   "name": "python3"
  },
  "language_info": {
   "codemirror_mode": {
    "name": "ipython",
    "version": 3
   },
   "file_extension": ".py",
   "mimetype": "text/x-python",
   "name": "python",
   "nbconvert_exporter": "python",
   "pygments_lexer": "ipython3",
   "version": "3.8.8"
  }
 },
 "nbformat": 4,
 "nbformat_minor": 5
}
